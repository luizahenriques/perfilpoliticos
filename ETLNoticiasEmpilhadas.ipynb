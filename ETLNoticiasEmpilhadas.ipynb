{
  "cells": [
    {
      "cell_type": "markdown",
      "metadata": {
        "id": "view-in-github",
        "colab_type": "text"
      },
      "source": [
        "<a href=\"https://colab.research.google.com/github/luizahenriques/perfilpoliticos/blob/main/ETLNoticiasEmpilhadas.ipynb\" target=\"_parent\"><img src=\"https://colab.research.google.com/assets/colab-badge.svg\" alt=\"Open In Colab\"/></a>"
      ]
    },
    {
      "cell_type": "code",
      "execution_count": null,
      "id": "55a150b1",
      "metadata": {
        "id": "55a150b1"
      },
      "outputs": [],
      "source": [
        "import urllib3\n",
        "\n",
        "# Desativar os avisos de InsecureRequestWarning\n",
        "urllib3.disable_warnings(urllib3.exceptions.InsecureRequestWarning)"
      ]
    },
    {
      "cell_type": "code",
      "execution_count": null,
      "id": "b2c91bc8",
      "metadata": {
        "id": "b2c91bc8"
      },
      "outputs": [],
      "source": [
        "import gdown\n",
        "import pandas as pd\n",
        "import json"
      ]
    },
    {
      "cell_type": "code",
      "execution_count": null,
      "id": "2b19047d",
      "metadata": {
        "id": "2b19047d",
        "outputId": "df7d5772-108c-4b43-dfce-f4b0b94c48fe"
      },
      "outputs": [
        {
          "name": "stderr",
          "output_type": "stream",
          "text": [
            "Downloading...\n",
            "From: https://drive.google.com/uc?id=1fxnMZDu2oVQhWZ9St79cSYIclEOTeust\n",
            "To: C:\\Users\\AJPJ\\Noticiasempilhadas.csv\n",
            "100%|███████████████████████████████████████████████████████████████████████████████| 950k/950k [00:00<00:00, 2.18MB/s]\n"
          ]
        },
        {
          "data": {
            "text/plain": [
              "'Noticiasempilhadas.csv'"
            ]
          },
          "execution_count": 6,
          "metadata": {},
          "output_type": "execute_result"
        }
      ],
      "source": [
        "# Substitua 'ID_DO_ARQUIVO' pelo ID real do arquivo no Google Drive\n",
        "file_id = [file_id]\n",
        "\n",
        "# URL de download direto do Google Drive\n",
        "url = f'https://drive.google.com/uc?id={file_id}'\n",
        "\n",
        "# Nome do arquivo de saída\n",
        "output = 'Noticiasempilhadas.csv'\n",
        "\n",
        "# Baixar o arquivo\n",
        "gdown.download(url, output, quiet=False)"
      ]
    },
    {
      "cell_type": "code",
      "execution_count": null,
      "id": "e393d545",
      "metadata": {
        "id": "e393d545"
      },
      "outputs": [],
      "source": [
        "noticiasempilhadasantigo = pd.read_csv('Noticiasempilhadas.csv')"
      ]
    },
    {
      "cell_type": "code",
      "execution_count": null,
      "id": "221af6df",
      "metadata": {
        "id": "221af6df"
      },
      "outputs": [],
      "source": [
        "import pandas as pd\n",
        "import ast\n",
        "\n",
        "\n",
        "\n",
        "# Substituir NaN por uma string vazia ou outro valor\n",
        "noticiasempilhadasantigo['scorescoluna'] = noticiasempilhadasantigo['scorescoluna'].fillna('[]')\n",
        "\n",
        "# Converter a string para uma lista de tuplas usando ast.literal_eval\n",
        "noticiasempilhadasantigo['scorescoluna'] = noticiasempilhadasantigo['scorescoluna'].apply(lambda x: ast.literal_eval(x) if not pd.isna(x) else pd.NA)\n",
        "\n",
        "# Usando explode para criar novas linhas com base nas tuplas\n",
        "df_expanded = noticiasempilhadasantigo.explode('scorescoluna')\n",
        "\n",
        "# Criar novas colunas com base nas tuplas\n",
        "df_expanded[['Nome_Encontrado', 'Nome_Deputado', 'ScoreSimilaridade']] = pd.DataFrame(df_expanded['scorescoluna'].tolist(), index=df_expanded.index)\n",
        "\n",
        "# Manter apenas as colunas desejadas\n",
        "df_resultado = df_expanded[[ 'datapublicacao','Nome_Encontrado', 'Nome_Deputado', 'ScoreSimilaridade']]\n",
        "\n"
      ]
    },
    {
      "cell_type": "code",
      "execution_count": null,
      "id": "467df9f4",
      "metadata": {
        "id": "467df9f4",
        "outputId": "14a25709-f460-42db-dc23-e950e6e3db53"
      },
      "outputs": [
        {
          "data": {
            "text/html": [
              "<div>\n",
              "<style scoped>\n",
              "    .dataframe tbody tr th:only-of-type {\n",
              "        vertical-align: middle;\n",
              "    }\n",
              "\n",
              "    .dataframe tbody tr th {\n",
              "        vertical-align: top;\n",
              "    }\n",
              "\n",
              "    .dataframe thead th {\n",
              "        text-align: right;\n",
              "    }\n",
              "</style>\n",
              "<table border=\"1\" class=\"dataframe\">\n",
              "  <thead>\n",
              "    <tr style=\"text-align: right;\">\n",
              "      <th></th>\n",
              "      <th>datapublicacao</th>\n",
              "      <th>Nome_Encontrado</th>\n",
              "      <th>Nome_Deputado</th>\n",
              "      <th>ScoreSimilaridade</th>\n",
              "    </tr>\n",
              "  </thead>\n",
              "  <tbody>\n",
              "    <tr>\n",
              "      <th>0</th>\n",
              "      <td>2023-12-22 11:32:46+00:00</td>\n",
              "      <td>Abilio Brunini</td>\n",
              "      <td>Abilio Brunini</td>\n",
              "      <td>4.843444</td>\n",
              "    </tr>\n",
              "    <tr>\n",
              "      <th>0</th>\n",
              "      <td>2023-12-22 11:32:46+00:00</td>\n",
              "      <td>Adilson Barroso</td>\n",
              "      <td>Adilson Barroso</td>\n",
              "      <td>4.788722</td>\n",
              "    </tr>\n",
              "    <tr>\n",
              "      <th>0</th>\n",
              "      <td>2023-12-22 11:32:46+00:00</td>\n",
              "      <td>Adolfo Viana BA</td>\n",
              "      <td>Adolfo Viana</td>\n",
              "      <td>4.201512</td>\n",
              "    </tr>\n",
              "    <tr>\n",
              "      <th>0</th>\n",
              "      <td>2023-12-22 11:32:46+00:00</td>\n",
              "      <td>Adriana Ventura</td>\n",
              "      <td>Adriana Ventura</td>\n",
              "      <td>4.911692</td>\n",
              "    </tr>\n",
              "    <tr>\n",
              "      <th>0</th>\n",
              "      <td>2023-12-22 11:32:46+00:00</td>\n",
              "      <td>Adriano do Baldy GO</td>\n",
              "      <td>Adriano do Baldy</td>\n",
              "      <td>4.430190</td>\n",
              "    </tr>\n",
              "    <tr>\n",
              "      <th>...</th>\n",
              "      <td>...</td>\n",
              "      <td>...</td>\n",
              "      <td>...</td>\n",
              "      <td>...</td>\n",
              "    </tr>\n",
              "    <tr>\n",
              "      <th>201</th>\n",
              "      <td>2024-01-10 21:07:59+00:00</td>\n",
              "      <td>Luiz Inácio Lula da Silva</td>\n",
              "      <td>Lula da Fonte</td>\n",
              "      <td>3.943854</td>\n",
              "    </tr>\n",
              "    <tr>\n",
              "      <th>201</th>\n",
              "      <td>2024-01-10 21:07:59+00:00</td>\n",
              "      <td>Sr. Márcio Costa Macedo</td>\n",
              "      <td>Fábio Macedo</td>\n",
              "      <td>3.904915</td>\n",
              "    </tr>\n",
              "    <tr>\n",
              "      <th>201</th>\n",
              "      <td>2024-01-10 21:07:59+00:00</td>\n",
              "      <td>Márcio Macedo</td>\n",
              "      <td>Fábio Macedo</td>\n",
              "      <td>4.259441</td>\n",
              "    </tr>\n",
              "    <tr>\n",
              "      <th>202</th>\n",
              "      <td>2024-01-10 20:50:34+00:00</td>\n",
              "      <td>NaN</td>\n",
              "      <td>None</td>\n",
              "      <td>NaN</td>\n",
              "    </tr>\n",
              "    <tr>\n",
              "      <th>203</th>\n",
              "      <td>2024-01-10 20:50:33+00:00</td>\n",
              "      <td>NaN</td>\n",
              "      <td>None</td>\n",
              "      <td>NaN</td>\n",
              "    </tr>\n",
              "  </tbody>\n",
              "</table>\n",
              "<p>903 rows × 4 columns</p>\n",
              "</div>"
            ],
            "text/plain": [
              "                datapublicacao            Nome_Encontrado     Nome_Deputado  \\\n",
              "0    2023-12-22 11:32:46+00:00             Abilio Brunini    Abilio Brunini   \n",
              "0    2023-12-22 11:32:46+00:00            Adilson Barroso   Adilson Barroso   \n",
              "0    2023-12-22 11:32:46+00:00            Adolfo Viana BA      Adolfo Viana   \n",
              "0    2023-12-22 11:32:46+00:00            Adriana Ventura   Adriana Ventura   \n",
              "0    2023-12-22 11:32:46+00:00        Adriano do Baldy GO  Adriano do Baldy   \n",
              "..                         ...                        ...               ...   \n",
              "201  2024-01-10 21:07:59+00:00  Luiz Inácio Lula da Silva     Lula da Fonte   \n",
              "201  2024-01-10 21:07:59+00:00    Sr. Márcio Costa Macedo      Fábio Macedo   \n",
              "201  2024-01-10 21:07:59+00:00              Márcio Macedo      Fábio Macedo   \n",
              "202  2024-01-10 20:50:34+00:00                        NaN              None   \n",
              "203  2024-01-10 20:50:33+00:00                        NaN              None   \n",
              "\n",
              "     ScoreSimilaridade  \n",
              "0             4.843444  \n",
              "0             4.788722  \n",
              "0             4.201512  \n",
              "0             4.911692  \n",
              "0             4.430190  \n",
              "..                 ...  \n",
              "201           3.943854  \n",
              "201           3.904915  \n",
              "201           4.259441  \n",
              "202                NaN  \n",
              "203                NaN  \n",
              "\n",
              "[903 rows x 4 columns]"
            ]
          },
          "execution_count": 9,
          "metadata": {},
          "output_type": "execute_result"
        }
      ],
      "source": [
        "df_resultado"
      ]
    },
    {
      "cell_type": "code",
      "execution_count": null,
      "id": "ae4faee9",
      "metadata": {
        "id": "ae4faee9"
      },
      "outputs": [],
      "source": [
        "temp_csv_path = r\"C:\\Users\\AJPJ\\OneDrive - PETROBRAS\\Desktop\\Noticias_Deputados\\tabelanomedeputadostratada.csv\"\n",
        "df_resultado.to_csv(temp_csv_path)"
      ]
    },
    {
      "cell_type": "code",
      "execution_count": null,
      "id": "a856806a",
      "metadata": {
        "id": "a856806a"
      },
      "outputs": [],
      "source": []
    }
  ],
  "metadata": {
    "kernelspec": {
      "display_name": "Python 3 (ipykernel)",
      "language": "python",
      "name": "python3"
    },
    "language_info": {
      "codemirror_mode": {
        "name": "ipython",
        "version": 3
      },
      "file_extension": ".py",
      "mimetype": "text/x-python",
      "name": "python",
      "nbconvert_exporter": "python",
      "pygments_lexer": "ipython3",
      "version": "3.9.13"
    },
    "colab": {
      "provenance": [],
      "include_colab_link": true
    }
  },
  "nbformat": 4,
  "nbformat_minor": 5
}