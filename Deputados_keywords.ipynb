{
  "cells": [
    {
      "cell_type": "markdown",
      "metadata": {
        "id": "view-in-github",
        "colab_type": "text"
      },
      "source": [
        "<a href=\"https://colab.research.google.com/github/luizahenriques/perfilpoliticos/blob/main/Deputados_keywords.ipynb\" target=\"_parent\"><img src=\"https://colab.research.google.com/assets/colab-badge.svg\" alt=\"Open In Colab\"/></a>"
      ]
    },
    {
      "cell_type": "code",
      "execution_count": null,
      "id": "f5bffdac",
      "metadata": {
        "id": "f5bffdac"
      },
      "outputs": [],
      "source": [
        "%%capture\n",
        "!pip install gdown"
      ]
    },
    {
      "cell_type": "code",
      "execution_count": null,
      "id": "78cffba3",
      "metadata": {
        "id": "78cffba3"
      },
      "outputs": [],
      "source": [
        "import urllib3\n",
        "\n",
        "# Desativar os avisos de InsecureRequestWarning\n",
        "urllib3.disable_warnings(urllib3.exceptions.InsecureRequestWarning)"
      ]
    },
    {
      "cell_type": "code",
      "execution_count": null,
      "id": "afe33507",
      "metadata": {
        "id": "afe33507"
      },
      "outputs": [],
      "source": [
        "import gdown\n",
        "import pandas as pd\n",
        "import json"
      ]
    },
    {
      "cell_type": "code",
      "execution_count": 1,
      "id": "e8f07b28",
      "metadata": {
        "colab": {
          "base_uri": "https://localhost:8080/",
          "height": 255
        },
        "id": "e8f07b28",
        "outputId": "1fee4b46-4e54-42ba-ec00-36694b1b5bac"
      },
      "outputs": [
        {
          "output_type": "error",
          "ename": "NameError",
          "evalue": "name 'FILEID' is not defined",
          "traceback": [
            "\u001b[0;31m---------------------------------------------------------------------------\u001b[0m",
            "\u001b[0;31mNameError\u001b[0m                                 Traceback (most recent call last)",
            "\u001b[0;32m<ipython-input-1-e2586d92e484>\u001b[0m in \u001b[0;36m<cell line: 2>\u001b[0;34m()\u001b[0m\n\u001b[1;32m      1\u001b[0m \u001b[0;31m# Substitua 'ID_DO_ARQUIVO' pelo ID real do arquivo no Google Drive\u001b[0m\u001b[0;34m\u001b[0m\u001b[0;34m\u001b[0m\u001b[0m\n\u001b[0;32m----> 2\u001b[0;31m \u001b[0mfile_id\u001b[0m \u001b[0;34m=\u001b[0m \u001b[0;34m[\u001b[0m\u001b[0mFILEID\u001b[0m\u001b[0;34m]\u001b[0m\u001b[0;34m\u001b[0m\u001b[0;34m\u001b[0m\u001b[0m\n\u001b[0m\u001b[1;32m      3\u001b[0m \u001b[0;34m\u001b[0m\u001b[0m\n\u001b[1;32m      4\u001b[0m \u001b[0;31m# URL de download direto do Google Drive\u001b[0m\u001b[0;34m\u001b[0m\u001b[0;34m\u001b[0m\u001b[0m\n\u001b[1;32m      5\u001b[0m \u001b[0murl\u001b[0m \u001b[0;34m=\u001b[0m \u001b[0;34mf'https://drive.google.com/uc?id={file_id}'\u001b[0m\u001b[0;34m\u001b[0m\u001b[0;34m\u001b[0m\u001b[0m\n",
            "\u001b[0;31mNameError\u001b[0m: name 'FILEID' is not defined"
          ]
        }
      ],
      "source": [
        "# Substitua 'ID_DO_ARQUIVO' pelo ID real do arquivo no Google Drive\n",
        "file_id = [FILEID]\n",
        "\n",
        "# URL de download direto do Google Drive\n",
        "url = f'https://drive.google.com/uc?id={file_id}'\n",
        "\n",
        "# Nome do arquivo de saída\n",
        "output = 'Noticiasempilhadas.csv'\n",
        "\n",
        "# Baixar o arquivo\n",
        "gdown.download(url, output, quiet=False)"
      ]
    },
    {
      "cell_type": "code",
      "execution_count": null,
      "id": "83ec1d66",
      "metadata": {
        "id": "83ec1d66"
      },
      "outputs": [],
      "source": [
        "df = pd.read_csv('Noticiasempilhadas.csv')"
      ]
    },
    {
      "cell_type": "code",
      "execution_count": null,
      "id": "5cc4a887",
      "metadata": {
        "id": "5cc4a887"
      },
      "outputs": [],
      "source": [
        "import pandas as pd\n",
        "import requests\n",
        "import re\n",
        "\n",
        "# Supondo que você já tenha um DataFrame df com a coluna 'descricao'\n",
        "# ...\n",
        "\n",
        "# Função para fazer a requisição e obter as keywords\n",
        "def obter_keywords(descricao):\n",
        "    content = f'Busque 5 expressões chave com 3 palavras no máximo referentes a esta noticia: {descricao}'\n",
        "    url = [URLAPIPETROBRAS]\n",
        "    headers = {\n",
        "        'Content-Type': 'application/json',\n",
        "        'api-key': [APIKEY]\n",
        "    }\n",
        "    data = {\n",
        "        \"messages\": [\n",
        "            {\n",
        "                \"role\": \"system\",\n",
        "                \"content\": \"Você busca palavras chaves de notícias necessárias para que pessoas achem notícias que sejam de seu interesse\"\n",
        "            },\n",
        "            {\n",
        "                \"role\": \"user\",\n",
        "                \"content\": content\n",
        "            }\n",
        "        ]\n",
        "    }\n",
        "\n",
        "    response = requests.post(url, headers=headers, json=data, verify=False)\n",
        "\n",
        "    if response.status_code == 200:\n",
        "        # Extrair as keywords do JSON de resposta\n",
        "        keywords = response.json().get('choices', [{}])[0].get('message', {}).get('content', '')\n",
        "         # Utilizar expressão regular para extrair o conteúdo entre aspas duplas\n",
        "        matches = re.findall(r'\"([^\"]*)\"', keywords)\n",
        "\n",
        "        return matches\n",
        "    else:\n",
        "        return []\n",
        "\n",
        "# Criar a nova coluna 'keywords' no DataFrame\n",
        "df['keywords'] = df['descricao'].apply(obter_keywords)\n"
      ]
    },
    {
      "cell_type": "code",
      "execution_count": null,
      "id": "7d0d3b84",
      "metadata": {
        "id": "7d0d3b84"
      },
      "outputs": [],
      "source": [
        "temp_csv_path = r[PATHDESTINOKEYWORDS]\n",
        "df.to_csv(temp_csv_path)"
      ]
    }
  ],
  "metadata": {
    "kernelspec": {
      "display_name": "Python 3 (ipykernel)",
      "language": "python",
      "name": "python3"
    },
    "language_info": {
      "codemirror_mode": {
        "name": "ipython",
        "version": 3
      },
      "file_extension": ".py",
      "mimetype": "text/x-python",
      "name": "python",
      "nbconvert_exporter": "python",
      "pygments_lexer": "ipython3",
      "version": "3.9.13"
    },
    "colab": {
      "provenance": [],
      "include_colab_link": true
    }
  },
  "nbformat": 4,
  "nbformat_minor": 5
}