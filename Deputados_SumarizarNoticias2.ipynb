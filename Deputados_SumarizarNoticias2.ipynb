{
  "cells": [
    {
      "cell_type": "markdown",
      "metadata": {
        "id": "view-in-github",
        "colab_type": "text"
      },
      "source": [
        "<a href=\"https://colab.research.google.com/github/luizahenriques/perfilpoliticos/blob/main/Deputados_SumarizarNoticias2.ipynb\" target=\"_parent\"><img src=\"https://colab.research.google.com/assets/colab-badge.svg\" alt=\"Open In Colab\"/></a>"
      ]
    },
    {
      "cell_type": "code",
      "execution_count": null,
      "id": "e885625b",
      "metadata": {
        "id": "e885625b"
      },
      "outputs": [],
      "source": [
        "%%capture\n",
        "!pip install gdown"
      ]
    },
    {
      "cell_type": "code",
      "execution_count": null,
      "id": "619d00eb",
      "metadata": {
        "id": "619d00eb"
      },
      "outputs": [],
      "source": [
        "import urllib3\n",
        "\n",
        "# Desativar os avisos de InsecureRequestWarning\n",
        "urllib3.disable_warnings(urllib3.exceptions.InsecureRequestWarning)"
      ]
    },
    {
      "cell_type": "code",
      "execution_count": null,
      "id": "a954d996",
      "metadata": {
        "id": "a954d996"
      },
      "outputs": [],
      "source": [
        "import gdown\n",
        "import pandas as pd\n",
        "import json"
      ]
    },
    {
      "cell_type": "code",
      "execution_count": 1,
      "id": "b0a82b58",
      "metadata": {
        "colab": {
          "base_uri": "https://localhost:8080/",
          "height": 255
        },
        "id": "b0a82b58",
        "outputId": "cbf7c0ca-ced9-4855-e21c-5cebc8424f23"
      },
      "outputs": [
        {
          "output_type": "error",
          "ename": "NameError",
          "evalue": "name 'FILEID' is not defined",
          "traceback": [
            "\u001b[0;31m---------------------------------------------------------------------------\u001b[0m",
            "\u001b[0;31mNameError\u001b[0m                                 Traceback (most recent call last)",
            "\u001b[0;32m<ipython-input-1-e2586d92e484>\u001b[0m in \u001b[0;36m<cell line: 2>\u001b[0;34m()\u001b[0m\n\u001b[1;32m      1\u001b[0m \u001b[0;31m# Substitua 'ID_DO_ARQUIVO' pelo ID real do arquivo no Google Drive\u001b[0m\u001b[0;34m\u001b[0m\u001b[0;34m\u001b[0m\u001b[0m\n\u001b[0;32m----> 2\u001b[0;31m \u001b[0mfile_id\u001b[0m \u001b[0;34m=\u001b[0m \u001b[0;34m[\u001b[0m\u001b[0mFILEID\u001b[0m\u001b[0;34m]\u001b[0m\u001b[0;34m\u001b[0m\u001b[0;34m\u001b[0m\u001b[0m\n\u001b[0m\u001b[1;32m      3\u001b[0m \u001b[0;34m\u001b[0m\u001b[0m\n\u001b[1;32m      4\u001b[0m \u001b[0;31m# URL de download direto do Google Drive\u001b[0m\u001b[0;34m\u001b[0m\u001b[0;34m\u001b[0m\u001b[0m\n\u001b[1;32m      5\u001b[0m \u001b[0murl\u001b[0m \u001b[0;34m=\u001b[0m \u001b[0;34mf'https://drive.google.com/uc?id={file_id}'\u001b[0m\u001b[0;34m\u001b[0m\u001b[0;34m\u001b[0m\u001b[0m\n",
            "\u001b[0;31mNameError\u001b[0m: name 'FILEID' is not defined"
          ]
        }
      ],
      "source": [
        "# Substitua 'ID_DO_ARQUIVO' pelo ID real do arquivo no Google Drive\n",
        "file_id = [FILEID]\n",
        "\n",
        "# URL de download direto do Google Drive\n",
        "url = f'https://drive.google.com/uc?id={file_id}'\n",
        "\n",
        "# Nome do arquivo de saída\n",
        "output = 'Noticiasempilhadas.csv'\n",
        "\n",
        "# Baixar o arquivo\n",
        "gdown.download(url, output, quiet=False)"
      ]
    },
    {
      "cell_type": "code",
      "execution_count": null,
      "id": "f7192d84",
      "metadata": {
        "id": "f7192d84"
      },
      "outputs": [],
      "source": [
        "df = pd.read_csv('Noticiasempilhadas.csv')"
      ]
    },
    {
      "cell_type": "code",
      "execution_count": null,
      "id": "aba31d41",
      "metadata": {
        "id": "aba31d41"
      },
      "outputs": [],
      "source": [
        "import pandas as pd\n",
        "import requests\n",
        "import re\n",
        "\n",
        "# Supondo que você já tenha um DataFrame df com a coluna 'descricao'\n",
        "# ...\n",
        "\n",
        "# Função para fazer a requisição e obter as keywords\n",
        "def obter_resumo(descricao):\n",
        "    noticia = f'Resuma a notícia a seguir em no máximo 150 tokens e garantindo que nomes de personalidades politicas apareçam: {descricao}'\n",
        "    url = [URLAPIPETROBRAS]\n",
        "    headers = {\n",
        "        'Content-Type': 'application/json',\n",
        "        'api-key': [APIKEY]\n",
        "    }\n",
        "    data = {\n",
        "        \"messages\": [\n",
        "            {\n",
        "                \"role\": \"system\",\n",
        "                \"content\": \"Você resume notícias e garante que as principais informações sobre o tema serão abordadas\"\n",
        "            },\n",
        "            {\n",
        "                \"role\": \"user\",\n",
        "                \"content\": noticia\n",
        "            }\n",
        "        ]\n",
        "    }\n",
        "\n",
        "    response = requests.post(url, headers=headers, json=data, verify=False)\n",
        "\n",
        "    resumo = json.loads(response.text)\n",
        "\n",
        "    # Verificar se 'content' está presente na resposta antes de retornar\n",
        "    if 'choices' in resumo and resumo['choices'] and 'message' in resumo['choices'][0] and 'content' in resumo['choices'][0]['message']:\n",
        "        conteudo = resumo['choices'][0]['message']['content']\n",
        "        return conteudo\n",
        "    else:\n",
        "        # Se 'content' não estiver presente, retornar vazio\n",
        "        return ''\n",
        "\n",
        ""
      ]
    },
    {
      "cell_type": "code",
      "execution_count": null,
      "id": "b6f7e9c9",
      "metadata": {
        "id": "b6f7e9c9"
      },
      "outputs": [],
      "source": [
        "df['resumo'] = df['descricao'].apply(obter_resumo)"
      ]
    },
    {
      "cell_type": "code",
      "execution_count": null,
      "id": "16d5351f",
      "metadata": {
        "id": "16d5351f"
      },
      "outputs": [],
      "source": [
        "temp_csv_path = r[PATHDESTINOSUMARIZACAO]\n",
        "df.to_csv(temp_csv_path)"
      ]
    },
    {
      "cell_type": "code",
      "execution_count": null,
      "id": "97b81dc3",
      "metadata": {
        "id": "97b81dc3"
      },
      "outputs": [],
      "source": []
    }
  ],
  "metadata": {
    "kernelspec": {
      "display_name": "Python 3 (ipykernel)",
      "language": "python",
      "name": "python3"
    },
    "language_info": {
      "codemirror_mode": {
        "name": "ipython",
        "version": 3
      },
      "file_extension": ".py",
      "mimetype": "text/x-python",
      "name": "python",
      "nbconvert_exporter": "python",
      "pygments_lexer": "ipython3",
      "version": "3.9.13"
    },
    "colab": {
      "provenance": [],
      "include_colab_link": true
    }
  },
  "nbformat": 4,
  "nbformat_minor": 5
}