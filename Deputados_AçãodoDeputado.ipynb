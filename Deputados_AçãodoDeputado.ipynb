{
  "cells": [
    {
      "cell_type": "markdown",
      "metadata": {
        "id": "view-in-github",
        "colab_type": "text"
      },
      "source": [
        "<a href=\"https://colab.research.google.com/github/luizahenriques/perfilpoliticos/blob/main/Deputados_A%C3%A7%C3%A3odoDeputado.ipynb\" target=\"_parent\"><img src=\"https://colab.research.google.com/assets/colab-badge.svg\" alt=\"Open In Colab\"/></a>"
      ]
    },
    {
      "cell_type": "code",
      "execution_count": 1,
      "id": "e885625b",
      "metadata": {
        "id": "e885625b"
      },
      "outputs": [],
      "source": [
        "%%capture\n",
        "!pip install gdown"
      ]
    },
    {
      "cell_type": "code",
      "execution_count": 2,
      "id": "619d00eb",
      "metadata": {
        "id": "619d00eb"
      },
      "outputs": [],
      "source": [
        "import urllib3\n",
        "\n",
        "# Desativar os avisos de InsecureRequestWarning\n",
        "urllib3.disable_warnings(urllib3.exceptions.InsecureRequestWarning)"
      ]
    },
    {
      "cell_type": "code",
      "execution_count": 3,
      "id": "a954d996",
      "metadata": {
        "id": "a954d996"
      },
      "outputs": [],
      "source": [
        "import gdown\n",
        "import pandas as pd\n",
        "import json"
      ]
    },
    {
      "cell_type": "code",
      "execution_count": 4,
      "id": "3a3da717",
      "metadata": {
        "id": "3a3da717",
        "outputId": "d97fca05-2774-49fe-8373-163d83c0ae37",
        "colab": {
          "base_uri": "https://localhost:8080/",
          "height": 218
        }
      },
      "outputs": [
        {
          "output_type": "error",
          "ename": "NameError",
          "evalue": "name 'r' is not defined",
          "traceback": [
            "\u001b[0;31m---------------------------------------------------------------------------\u001b[0m",
            "\u001b[0;31mNameError\u001b[0m                                 Traceback (most recent call last)",
            "\u001b[0;32m<ipython-input-4-49e5a32b6421>\u001b[0m in \u001b[0;36m<cell line: 2>\u001b[0;34m()\u001b[0m\n\u001b[1;32m      1\u001b[0m \u001b[0;31m#Obter o arquivo antigo com as ações dos deputados\u001b[0m\u001b[0;34m\u001b[0m\u001b[0;34m\u001b[0m\u001b[0m\n\u001b[0;32m----> 2\u001b[0;31m \u001b[0mcaminho_do_arquivo\u001b[0m \u001b[0;34m=\u001b[0m \u001b[0mr\u001b[0m\u001b[0;34m[\u001b[0m\u001b[0mPATHDESTINOACAODEPUTADO\u001b[0m\u001b[0;34m]\u001b[0m\u001b[0;34m\u001b[0m\u001b[0;34m\u001b[0m\u001b[0m\n\u001b[0m\u001b[1;32m      3\u001b[0m \u001b[0marquivoantigo\u001b[0m \u001b[0;34m=\u001b[0m \u001b[0mpd\u001b[0m\u001b[0;34m.\u001b[0m\u001b[0mread_csv\u001b[0m\u001b[0;34m(\u001b[0m\u001b[0mcaminho_do_arquivo\u001b[0m\u001b[0;34m)\u001b[0m\u001b[0;34m\u001b[0m\u001b[0;34m\u001b[0m\u001b[0m\n",
            "\u001b[0;31mNameError\u001b[0m: name 'r' is not defined"
          ]
        }
      ],
      "source": [
        "#Obter o arquivo antigo com as ações dos deputados\n",
        "caminho_do_arquivo = r[PATHDESTINOACAODEPUTADO]\n",
        "arquivoantigo = pd.read_csv(caminho_do_arquivo)"
      ]
    },
    {
      "cell_type": "code",
      "execution_count": null,
      "id": "b0a82b58",
      "metadata": {
        "scrolled": true,
        "id": "b0a82b58"
      },
      "outputs": [],
      "source": [
        "# Substitua 'ID_DO_ARQUIVO' pelo ID real do arquivo no Google Drive\n",
        "file_id = [FILEID]\n",
        "\n",
        "# URL de download direto do Google Drive\n",
        "url = f'https://drive.google.com/uc?id={file_id}'\n",
        "\n",
        "# Nome do arquivo de saída\n",
        "output = 'Noticiasempilhadas.csv'\n",
        "\n",
        "# Baixar o arquivo\n",
        "gdown.download(url, output, quiet=False)"
      ]
    },
    {
      "cell_type": "code",
      "execution_count": null,
      "id": "f7192d84",
      "metadata": {
        "id": "f7192d84"
      },
      "outputs": [],
      "source": [
        "df = pd.read_csv('Noticiasempilhadas.csv')"
      ]
    },
    {
      "cell_type": "code",
      "execution_count": null,
      "id": "23960252",
      "metadata": {
        "scrolled": true,
        "id": "23960252"
      },
      "outputs": [],
      "source": [
        "# Convertendo a coluna datapublicacao para o formato de data (Necessário para o código seguinte funcionar)\n",
        "df['datapublicacao'] = pd.to_datetime(df['datapublicacao'])\n",
        "arquivoantigo['datapublicacao'] = pd.to_datetime(arquivoantigo['datapublicacao'])"
      ]
    },
    {
      "cell_type": "code",
      "execution_count": null,
      "id": "a6cbf29e",
      "metadata": {
        "id": "a6cbf29e"
      },
      "outputs": [],
      "source": [
        "import pandas as pd\n",
        "\n",
        "# Realize um merge com indicador (_merge) baseado na coluna \"datapublicacao\"\n",
        "merged_df = pd.merge(df, arquivoantigo, on='datapublicacao', how='left', indicator=True)\n",
        "\n",
        "# Mantenha apenas as linhas que estão apenas no dataframe da esquerda (df)\n",
        "df = merged_df.loc[merged_df['_merge'] == 'left_only', df.columns.difference(['_merge'])]"
      ]
    },
    {
      "cell_type": "code",
      "execution_count": null,
      "id": "5a4840dc",
      "metadata": {
        "id": "5a4840dc"
      },
      "outputs": [],
      "source": [
        "#Filtrar o df para não trazer linhas que não tiver deputados encontrados (score relevante)\n",
        "df = df[df['scorescoluna'] != \"[]\"]"
      ]
    },
    {
      "cell_type": "code",
      "execution_count": null,
      "id": "e4b745b4",
      "metadata": {
        "id": "e4b745b4"
      },
      "outputs": [],
      "source": [
        "num_linhas = df.shape[0]\n",
        "num_linhas"
      ]
    },
    {
      "cell_type": "code",
      "execution_count": null,
      "id": "05e6b55e",
      "metadata": {
        "id": "05e6b55e"
      },
      "outputs": [],
      "source": [
        "df = df.head(2)"
      ]
    },
    {
      "cell_type": "code",
      "execution_count": null,
      "id": "ea38dc1a",
      "metadata": {
        "id": "ea38dc1a"
      },
      "outputs": [],
      "source": [
        "df"
      ]
    },
    {
      "cell_type": "code",
      "execution_count": null,
      "id": "3b484d65",
      "metadata": {
        "id": "3b484d65"
      },
      "outputs": [],
      "source": [
        "#CRIAR A LISTA DE DEPUTADOS QUE SÃO CITADOS NA NOTÍCIA\n",
        "import pandas as pd\n",
        "import re\n",
        "import math  # Importa o módulo math para verificar NaN\n",
        "\n",
        "# Função para extrair o segundo elemento de cada tupla, com condições\n",
        "def extract_second_element(string_data):\n",
        "    # Verificar se a célula é NaN ou não contém vírgula\n",
        "    if pd.isna(string_data) or ',' not in string_data:\n",
        "        return []  # Retorna uma lista vazia se não atender às condições\n",
        "\n",
        "    matches = re.findall(r\"\\('(.*?)', '(.*?)', \\d+\\.\\d+\\)\", string_data)\n",
        "    return [match[1] for match in matches]\n",
        "\n",
        "# Aplicar a função à coluna 'scoresdata'\n",
        "df['deputadoscitados'] = df['scorescoluna'].apply(extract_second_element)\n",
        "\n",
        "#Criar uma lista única unificando todos os resultados\n",
        "unique_second_elements = [element for sublist in df['deputadoscitados'] for element in sublist]\n",
        "# Eliminar itens duplicados\n",
        "\n",
        "unique_second_elements = list(set(unique_second_elements))\n"
      ]
    },
    {
      "cell_type": "code",
      "execution_count": null,
      "id": "bfafe0ba",
      "metadata": {
        "id": "bfafe0ba"
      },
      "outputs": [],
      "source": [
        "unique_second_elements"
      ]
    },
    {
      "cell_type": "code",
      "execution_count": null,
      "id": "b8e2c4fc",
      "metadata": {
        "id": "b8e2c4fc"
      },
      "outputs": [],
      "source": [
        "testelista = unique_second_elements\n"
      ]
    },
    {
      "cell_type": "code",
      "execution_count": null,
      "id": "aba31d41",
      "metadata": {
        "id": "aba31d41"
      },
      "outputs": [],
      "source": [
        "import pandas as pd\n",
        "import requests\n",
        "import re\n",
        "\n",
        "# Supondo que você já tenha um DataFrame df com a coluna 'descricao'\n",
        "# ...\n",
        "\n",
        "# Função para fazer a requisição e obter as keywords\n",
        "def obter_acaodeputado(politico,descricao):\n",
        "    noticia = f'Defina em no máximo 30 tokens qual é a participação de {politico} na notícia a seguir. Se não houver menção a ela no texto, não responda nada. A notícia é: {descricao}'\n",
        "    url = [URLAPIPETROBRAS]\n",
        "    headers = {\n",
        "        'Content-Type': 'application/json',\n",
        "        'api-key': [APIKEY]\n",
        "    }\n",
        "    data = {\n",
        "        \"messages\": [\n",
        "            {\n",
        "                \"role\": \"system\",\n",
        "                \"content\": \"Você resume notícias e garante que as principais informações sobre o tema serão abordadas\"\n",
        "            },\n",
        "            {\n",
        "                \"role\": \"user\",\n",
        "                \"content\": noticia\n",
        "            }\n",
        "        ]\n",
        "    }\n",
        "\n",
        "    response = requests.post(url, headers=headers, json=data, verify=False)\n",
        "\n",
        "    resumo = json.loads(response.text)\n",
        "\n",
        "    # Verificar se 'content' está presente na resposta antes de retornar\n",
        "    if 'choices' in resumo and resumo['choices'] and 'message' in resumo['choices'][0] and 'content' in resumo['choices'][0]['message']:\n",
        "        conteudo = resumo['choices'][0]['message']['content']\n",
        "        return conteudo\n",
        "    else:\n",
        "        # Se 'content' não estiver presente, retornar vazio\n",
        "        return ''\n",
        "\n",
        ""
      ]
    },
    {
      "cell_type": "code",
      "execution_count": null,
      "id": "abf6c18c",
      "metadata": {
        "id": "abf6c18c"
      },
      "outputs": [],
      "source": [
        "#Função para criar a coluna com a Ação do Deputado (obtida via API Open AI) e salvando numa coluna do dataframe\n",
        "def aplicar_obtencaoacao(row, testelista):\n",
        "    resultados = {'Politico': [], 'AcaoDeputado': []}\n",
        "\n",
        "    for p in testelista:\n",
        "        print(f\"Current 'p' value: {p}\")\n",
        "        resumo = obter_acaodeputado(p, row['descricao'])\n",
        "        resultados['Politico'].append(p)\n",
        "        resultados['AcaoDeputado'].append(resumo)\n",
        "\n",
        "    return resultados\n",
        "\n",
        "df_resultados = df.apply(lambda row: aplicar_obtencaoacao(row, testelista), axis=1, result_type='expand')\n",
        "\n",
        "df_final = pd.concat([df, df_resultados], axis=1)"
      ]
    },
    {
      "cell_type": "code",
      "execution_count": null,
      "id": "7d6a2018",
      "metadata": {
        "id": "7d6a2018"
      },
      "outputs": [],
      "source": [
        "# Criar uma lista de dicionários para cada linha\n",
        "data = []\n",
        "\n",
        "for index, row in df_final.iterrows():\n",
        "    politicos = row['Politico']\n",
        "    acoes = row['AcaoDeputado']\n",
        "    for politico, acao in zip(politicos, acoes):\n",
        "        data.append({'datapublicacao': row['datapublicacao'],\n",
        "                     'Politico': politico, 'AcaoDeputado': acao})\n",
        "\n",
        "# Criar um novo DataFrame a partir da lista de dicionários\n",
        "df_expandido = pd.DataFrame(data)"
      ]
    },
    {
      "cell_type": "code",
      "execution_count": null,
      "id": "7082d9f2",
      "metadata": {
        "id": "7082d9f2"
      },
      "outputs": [],
      "source": [
        "arquivoantigo['datapublicacao'] = pd.to_datetime(arquivoantigo['datapublicacao'])\n",
        "df_expandido['datapublicacao'] = pd.to_datetime(df_expandido['datapublicacao'])\n",
        "\n",
        "df_concatenado = pd.concat([arquivoantigo, df_expandido], ignore_index=True)"
      ]
    },
    {
      "cell_type": "code",
      "execution_count": null,
      "id": "4d6689bb",
      "metadata": {
        "scrolled": true,
        "id": "4d6689bb"
      },
      "outputs": [],
      "source": [
        "df_concatenado"
      ]
    },
    {
      "cell_type": "code",
      "execution_count": null,
      "id": "16d5351f",
      "metadata": {
        "id": "16d5351f"
      },
      "outputs": [],
      "source": [
        "temp_csv_path = r[PATHDESTINOACAODEPUTADO]\n",
        "df_concatenado.to_csv(temp_csv_path,mode='w',index=False)"
      ]
    },
    {
      "cell_type": "code",
      "execution_count": null,
      "id": "273b0ca0",
      "metadata": {
        "id": "273b0ca0"
      },
      "outputs": [],
      "source": []
    }
  ],
  "metadata": {
    "kernelspec": {
      "display_name": "Python 3 (ipykernel)",
      "language": "python",
      "name": "python3"
    },
    "language_info": {
      "codemirror_mode": {
        "name": "ipython",
        "version": 3
      },
      "file_extension": ".py",
      "mimetype": "text/x-python",
      "name": "python",
      "nbconvert_exporter": "python",
      "pygments_lexer": "ipython3",
      "version": "3.9.13"
    },
    "colab": {
      "provenance": [],
      "include_colab_link": true
    }
  },
  "nbformat": 4,
  "nbformat_minor": 5
}